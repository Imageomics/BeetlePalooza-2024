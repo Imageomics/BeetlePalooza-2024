{
 "cells": [
  {
   "cell_type": "code",
   "execution_count": 1,
   "id": "e568995e-e3f3-45b3-97db-86e1683f26ae",
   "metadata": {},
   "outputs": [
    {
     "name": "stdout",
     "output_type": "stream",
     "text": [
      "Requirement already satisfied: polars in /opt/conda/lib/python3.11/site-packages (1.4.1)\n"
     ]
    }
   ],
   "source": [
    "!pip install polars"
   ]
  },
  {
   "cell_type": "code",
   "execution_count": 2,
   "id": "a3f6d27a-0e4c-43c6-9b90-8a774d261fe8",
   "metadata": {},
   "outputs": [],
   "source": [
    "import polars as pl\n",
    "import seaborn as sns"
   ]
  },
  {
   "cell_type": "markdown",
   "id": "ae46455a-6dc2-4ac6-8abd-00b4f2590c83",
   "metadata": {},
   "source": [
    "# Explore Taxa in [TreeOfLife-10M](https://huggingface.co/datasets/imageomics/TreeOfLife-10M)\n",
    "\n",
    "Exploring the taxa in BeetlePalooza dataset that is in TreeOfLife-10M training set (CSVs from [here](https://github.com/Imageomics/BeetlePalooza-2024/issues/10#issuecomment-2272214418), were created by filtering the TreeOfLife-10M [catalog](https://huggingface.co/datasets/imageomics/TreeOfLife-10M/blob/main/metadata/catalog.csv) for the `<genus species>` pairs and just `<genus>` that were in the [Beetle CSV](https://huggingface.co/datasets/imageomics/2018-NEON-beetles/blob/main/BeetleMeasurements.csv))."
   ]
  },
  {
   "cell_type": "code",
   "execution_count": 3,
   "id": "e96d0ea6-eba3-42c9-a554-b734ca862b66",
   "metadata": {},
   "outputs": [],
   "source": [
    "df_genus = pl.read_csv(\"data/Beetle_genus_overlap_tol.csv\", low_memory = False)\n",
    "df_sciName = pl.read_csv(\"data/Beetle_sciName_overlap_tol.csv\", low_memory = False)"
   ]
  },
  {
   "cell_type": "code",
   "execution_count": 4,
   "id": "6cead99f-73bd-46bf-ae61-e59a2d79ca9c",
   "metadata": {},
   "outputs": [
    {
     "data": {
      "text/html": [
       "<div><style>\n",
       ".dataframe > thead > tr,\n",
       ".dataframe > tbody > tr {\n",
       "  text-align: right;\n",
       "  white-space: pre-wrap;\n",
       "}\n",
       "</style>\n",
       "<small>shape: (5, 18)</small><table border=\"1\" class=\"dataframe\"><thead><tr><th>split</th><th>treeoflife_id</th><th>eol_content_id</th><th>eol_page_id</th><th>bioscan_part</th><th>bioscan_filename</th><th>inat21_filename</th><th>inat21_cls_name</th><th>inat21_cls_num</th><th>kingdom</th><th>phylum</th><th>class</th><th>order</th><th>family</th><th>genus</th><th>species</th><th>common</th><th>sciName</th></tr><tr><td>str</td><td>str</td><td>f64</td><td>f64</td><td>str</td><td>str</td><td>str</td><td>str</td><td>str</td><td>str</td><td>str</td><td>str</td><td>str</td><td>str</td><td>str</td><td>str</td><td>str</td><td>str</td></tr></thead><tbody><tr><td>&quot;train&quot;</td><td>&quot;7a5dcb0c-0bc9-4d20-8f07-64340a…</td><td>2.7776258e7</td><td>1.014588e6</td><td>null</td><td>null</td><td>null</td><td>null</td><td>null</td><td>&quot;Animalia&quot;</td><td>&quot;Arthropoda&quot;</td><td>&quot;Insecta&quot;</td><td>&quot;Coleoptera&quot;</td><td>&quot;Carabidae&quot;</td><td>&quot;Carabus&quot;</td><td>&quot;nemoralis&quot;</td><td>&quot;Wood Ground-beetle&quot;</td><td>&quot;Carabus nemoralis&quot;</td></tr><tr><td>&quot;train&quot;</td><td>&quot;5dd09d72-1aec-418f-b035-7203a9…</td><td>2.7813566e7</td><td>1.015759e6</td><td>null</td><td>null</td><td>null</td><td>null</td><td>null</td><td>&quot;Animalia&quot;</td><td>&quot;Arthropoda&quot;</td><td>&quot;Insecta&quot;</td><td>&quot;Coleoptera&quot;</td><td>&quot;Carabidae&quot;</td><td>&quot;Calathus&quot;</td><td>&quot;opaculus&quot;</td><td>&quot;Calathus opaculus&quot;</td><td>&quot;Calathus opaculus&quot;</td></tr><tr><td>&quot;train&quot;</td><td>&quot;65796502-0993-4f79-95cc-19221d…</td><td>2.0380197e7</td><td>1.03642e6</td><td>null</td><td>null</td><td>null</td><td>null</td><td>null</td><td>&quot;Animalia&quot;</td><td>&quot;Arthropoda&quot;</td><td>&quot;Insecta&quot;</td><td>&quot;Coleoptera&quot;</td><td>&quot;Carabidae&quot;</td><td>&quot;Cicindela&quot;</td><td>&quot;amargosae&quot;</td><td>&quot;Nye Tiger Beetle&quot;</td><td>&quot;Cicindela amargosae&quot;</td></tr><tr><td>&quot;train&quot;</td><td>&quot;ca4dbb32-2d98-449e-98c6-57d025…</td><td>2.0806174e7</td><td>1.035962e6</td><td>null</td><td>null</td><td>null</td><td>null</td><td>null</td><td>&quot;Animalia&quot;</td><td>&quot;Arthropoda&quot;</td><td>&quot;Insecta&quot;</td><td>&quot;Coleoptera&quot;</td><td>&quot;Carabidae&quot;</td><td>&quot;Dicaelus&quot;</td><td>&quot;teter&quot;</td><td>&quot;Dicaelus teter&quot;</td><td>&quot;Dicaelus teter&quot;</td></tr><tr><td>&quot;train&quot;</td><td>&quot;42711a3e-2f76-4ba8-a65b-3b8f62…</td><td>2.8558708e7</td><td>1.037168e6</td><td>null</td><td>null</td><td>null</td><td>null</td><td>null</td><td>&quot;Animalia&quot;</td><td>&quot;Arthropoda&quot;</td><td>&quot;Insecta&quot;</td><td>&quot;Coleoptera&quot;</td><td>&quot;Carabidae&quot;</td><td>&quot;Amara&quot;</td><td>&quot;gibba&quot;</td><td>&quot;Amara gibba&quot;</td><td>&quot;Amara gibba&quot;</td></tr></tbody></table></div>"
      ],
      "text/plain": [
       "shape: (5, 18)\n",
       "┌───────┬────────────┬────────────┬────────────┬───┬───────────┬───────────┬───────────┬───────────┐\n",
       "│ split ┆ treeoflife ┆ eol_conten ┆ eol_page_i ┆ … ┆ genus     ┆ species   ┆ common    ┆ sciName   │\n",
       "│ ---   ┆ _id        ┆ t_id       ┆ d          ┆   ┆ ---       ┆ ---       ┆ ---       ┆ ---       │\n",
       "│ str   ┆ ---        ┆ ---        ┆ ---        ┆   ┆ str       ┆ str       ┆ str       ┆ str       │\n",
       "│       ┆ str        ┆ f64        ┆ f64        ┆   ┆           ┆           ┆           ┆           │\n",
       "╞═══════╪════════════╪════════════╪════════════╪═══╪═══════════╪═══════════╪═══════════╪═══════════╡\n",
       "│ train ┆ 7a5dcb0c-0 ┆ 2.7776258e ┆ 1.014588e6 ┆ … ┆ Carabus   ┆ nemoralis ┆ Wood Grou ┆ Carabus   │\n",
       "│       ┆ bc9-4d20-8 ┆ 7          ┆            ┆   ┆           ┆           ┆ nd-beetle ┆ nemoralis │\n",
       "│       ┆ f07-64340a ┆            ┆            ┆   ┆           ┆           ┆           ┆           │\n",
       "│       ┆ …          ┆            ┆            ┆   ┆           ┆           ┆           ┆           │\n",
       "│ train ┆ 5dd09d72-1 ┆ 2.7813566e ┆ 1.015759e6 ┆ … ┆ Calathus  ┆ opaculus  ┆ Calathus  ┆ Calathus  │\n",
       "│       ┆ aec-418f-b ┆ 7          ┆            ┆   ┆           ┆           ┆ opaculus  ┆ opaculus  │\n",
       "│       ┆ 035-7203a9 ┆            ┆            ┆   ┆           ┆           ┆           ┆           │\n",
       "│       ┆ …          ┆            ┆            ┆   ┆           ┆           ┆           ┆           │\n",
       "│ train ┆ 65796502-0 ┆ 2.0380197e ┆ 1.03642e6  ┆ … ┆ Cicindela ┆ amargosae ┆ Nye Tiger ┆ Cicindela │\n",
       "│       ┆ 993-4f79-9 ┆ 7          ┆            ┆   ┆           ┆           ┆ Beetle    ┆ amargosae │\n",
       "│       ┆ 5cc-19221d ┆            ┆            ┆   ┆           ┆           ┆           ┆           │\n",
       "│       ┆ …          ┆            ┆            ┆   ┆           ┆           ┆           ┆           │\n",
       "│ train ┆ ca4dbb32-2 ┆ 2.0806174e ┆ 1.035962e6 ┆ … ┆ Dicaelus  ┆ teter     ┆ Dicaelus  ┆ Dicaelus  │\n",
       "│       ┆ d98-449e-9 ┆ 7          ┆            ┆   ┆           ┆           ┆ teter     ┆ teter     │\n",
       "│       ┆ 8c6-57d025 ┆            ┆            ┆   ┆           ┆           ┆           ┆           │\n",
       "│       ┆ …          ┆            ┆            ┆   ┆           ┆           ┆           ┆           │\n",
       "│ train ┆ 42711a3e-2 ┆ 2.8558708e ┆ 1.037168e6 ┆ … ┆ Amara     ┆ gibba     ┆ Amara     ┆ Amara     │\n",
       "│       ┆ f76-4ba8-a ┆ 7          ┆            ┆   ┆           ┆           ┆ gibba     ┆ gibba     │\n",
       "│       ┆ 65b-3b8f62 ┆            ┆            ┆   ┆           ┆           ┆           ┆           │\n",
       "│       ┆ …          ┆            ┆            ┆   ┆           ┆           ┆           ┆           │\n",
       "└───────┴────────────┴────────────┴────────────┴───┴───────────┴───────────┴───────────┴───────────┘"
      ]
     },
     "execution_count": 4,
     "metadata": {},
     "output_type": "execute_result"
    }
   ],
   "source": [
    "df_genus.head()"
   ]
  },
  {
   "cell_type": "code",
   "execution_count": 6,
   "id": "cf90648a-3330-4f9a-bee0-4e5861bfe0e1",
   "metadata": {},
   "outputs": [],
   "source": [
    "TAXA_COLS = [\"kingdom\", \"phylum\", \"class\", \"order\", \"family\", \"genus\", \"species\", \"common\"]"
   ]
  },
  {
   "cell_type": "code",
   "execution_count": 9,
   "id": "cc7a580e-4ab6-4981-b338-7c30bdf6a713",
   "metadata": {},
   "outputs": [
    {
     "data": {
      "text/html": [
       "<div><style>\n",
       ".dataframe > thead > tr,\n",
       ".dataframe > tbody > tr {\n",
       "  text-align: right;\n",
       "  white-space: pre-wrap;\n",
       "}\n",
       "</style>\n",
       "<small>shape: (1, 8)</small><table border=\"1\" class=\"dataframe\"><thead><tr><th>kingdom</th><th>phylum</th><th>class</th><th>order</th><th>family</th><th>genus</th><th>species</th><th>common</th></tr><tr><td>u32</td><td>u32</td><td>u32</td><td>u32</td><td>u32</td><td>u32</td><td>u32</td><td>u32</td></tr></thead><tbody><tr><td>27485</td><td>27485</td><td>27485</td><td>27485</td><td>27485</td><td>27577</td><td>27260</td><td>27577</td></tr></tbody></table></div>"
      ],
      "text/plain": [
       "shape: (1, 8)\n",
       "┌─────────┬────────┬───────┬───────┬────────┬───────┬─────────┬────────┐\n",
       "│ kingdom ┆ phylum ┆ class ┆ order ┆ family ┆ genus ┆ species ┆ common │\n",
       "│ ---     ┆ ---    ┆ ---   ┆ ---   ┆ ---    ┆ ---   ┆ ---     ┆ ---    │\n",
       "│ u32     ┆ u32    ┆ u32   ┆ u32   ┆ u32    ┆ u32   ┆ u32     ┆ u32    │\n",
       "╞═════════╪════════╪═══════╪═══════╪════════╪═══════╪═════════╪════════╡\n",
       "│ 27485   ┆ 27485  ┆ 27485 ┆ 27485 ┆ 27485  ┆ 27577 ┆ 27260   ┆ 27577  │\n",
       "└─────────┴────────┴───────┴───────┴────────┴───────┴─────────┴────────┘"
      ]
     },
     "execution_count": 9,
     "metadata": {},
     "output_type": "execute_result"
    }
   ],
   "source": [
    "df_genus[TAXA_COLS].count()"
   ]
  },
  {
   "cell_type": "code",
   "execution_count": 12,
   "id": "c8249142-fa14-4a48-bfdd-925646b5a82b",
   "metadata": {},
   "outputs": [
    {
     "name": "stdout",
     "output_type": "stream",
     "text": [
      "kingdom has 2 unique values\n",
      "phylum has 2 unique values\n",
      "class has 2 unique values\n",
      "order has 2 unique values\n",
      "family has 2 unique values\n",
      "genus has 34 unique values\n",
      "species has 1501 unique values\n",
      "common has 1703 unique values\n"
     ]
    }
   ],
   "source": [
    "for col in TAXA_COLS:\n",
    "    print(f\"{col} has {df_genus[col].n_unique()} unique values\")"
   ]
  },
  {
   "cell_type": "markdown",
   "id": "9593e4c7-9582-4d51-8596-b8587dcf2bdd",
   "metadata": {},
   "source": [
    "Why are there 2 kingdoms? Interesting."
   ]
  },
  {
   "cell_type": "code",
   "execution_count": 15,
   "id": "8a6f78d8-8ac5-4e92-892d-3c4a5aa782d1",
   "metadata": {},
   "outputs": [
    {
     "name": "stdout",
     "output_type": "stream",
     "text": [
      "shape: (2,)\n",
      "Series: 'kingdom' [str]\n",
      "[\n",
      "\t\"Animalia\"\n",
      "\tnull\n",
      "]\n"
     ]
    }
   ],
   "source": [
    "print(df_genus[\"kingdom\"].unique())"
   ]
  },
  {
   "cell_type": "code",
   "execution_count": 19,
   "id": "ee08b663-9968-46e3-babd-6e48256260bb",
   "metadata": {},
   "outputs": [
    {
     "name": "stdout",
     "output_type": "stream",
     "text": [
      "kingdom has 1 unique values\n",
      "phylum has 1 unique values\n",
      "class has 1 unique values\n",
      "order has 1 unique values\n",
      "family has 1 unique values\n",
      "genus has 34 unique values\n",
      "species has 1500 unique values\n",
      "common has 1703 unique values\n"
     ]
    }
   ],
   "source": [
    "for col in TAXA_COLS:\n",
    "    print(f\"{col} has {df_genus.select(col).filter(pl.col(col).is_not_null()).n_unique()} unique values\")"
   ]
  },
  {
   "cell_type": "code",
   "execution_count": 21,
   "id": "1ca10421-dc68-44e9-b167-7fef83b73b64",
   "metadata": {},
   "outputs": [
    {
     "data": {
      "text/html": [
       "<div><style>\n",
       ".dataframe > thead > tr,\n",
       ".dataframe > tbody > tr {\n",
       "  text-align: right;\n",
       "  white-space: pre-wrap;\n",
       "}\n",
       "</style>\n",
       "<small>shape: (2,)</small><table border=\"1\" class=\"dataframe\"><thead><tr><th>family</th></tr><tr><td>str</td></tr></thead><tbody><tr><td>null</td></tr><tr><td>&quot;Carabidae&quot;</td></tr></tbody></table></div>"
      ],
      "text/plain": [
       "shape: (2,)\n",
       "Series: 'family' [str]\n",
       "[\n",
       "\tnull\n",
       "\t\"Carabidae\"\n",
       "]"
      ]
     },
     "execution_count": 21,
     "metadata": {},
     "output_type": "execute_result"
    }
   ],
   "source": [
    "df_genus[\"family\"].unique()"
   ]
  },
  {
   "cell_type": "code",
   "execution_count": 23,
   "id": "344c1035-96dd-48d5-ac07-00adfd23ef06",
   "metadata": {},
   "outputs": [
    {
     "name": "stdout",
     "output_type": "stream",
     "text": [
      "Amphasia\n",
      "Sphaeroderus\n",
      "Poecilus\n",
      "Promecognathus\n",
      "Cymindis\n",
      "Omus\n",
      "Discoderus\n",
      "Euryderus\n",
      "Cratacanthus\n",
      "Calathus\n",
      "Tetracha\n",
      "Amara\n",
      "Selenophorus\n",
      "Chlaenius\n",
      "Loxandrus\n",
      "Bembidion\n",
      "Pasimachus\n",
      "Pterostichus\n",
      "Elaphropus\n",
      "Apristus\n",
      "Axinopalpus\n",
      "Agonum\n",
      "Carabus\n",
      "Syntomus\n",
      "Scarites\n",
      "Scaphinotus\n",
      "Cyclotrachelus\n",
      "Synuchus\n",
      "Harpalus\n",
      "Tetragonoderus\n",
      "Cicindela\n",
      "Calosoma\n",
      "Dicaelus\n",
      "Anisodactylus\n"
     ]
    }
   ],
   "source": [
    "for genus in df_genus[\"genus\"].unique():\n",
    "    print(genus)"
   ]
  },
  {
   "cell_type": "markdown",
   "id": "59136642-9d08-47a3-ae44-44296f68ede5",
   "metadata": {},
   "source": [
    "[This](https://huggingface.co/datasets/imageomics/2018-NEON-beetles/blob/main/group_images/A00000003356.jpg) is the one genus not represented (Paraclivina), which is only labeled to genus level in biorepository and has only one individual. The other \"missing genus\" is for a sample only labeled to \"Carabidae\", so that wound up in genus label, but is not actually the genus; it's the family. These are from images A00000095905.jpg, A00000095368.jpg, and A00000055119.jpg, and each has only two annotations (suggesting just one beetle per image)."
   ]
  },
  {
   "cell_type": "code",
   "execution_count": 25,
   "id": "a9769d95-c3b8-4108-9968-0fc4215de591",
   "metadata": {},
   "outputs": [
    {
     "name": "stdout",
     "output_type": "stream",
     "text": [
      "Chlaenius has 1156 images in training set\n",
      "Apristus has 44 images in training set\n",
      "Pterostichus has 1871 images in training set\n",
      "Calathus has 421 images in training set\n",
      "Loxandrus has 224 images in training set\n",
      "Scarites has 371 images in training set\n",
      "Agonum has 1070 images in training set\n",
      "Elaphropus has 150 images in training set\n",
      "Synuchus has 76 images in training set\n",
      "Cratacanthus has 23 images in training set\n",
      "Dicaelus has 256 images in training set\n",
      "Tetragonoderus has 110 images in training set\n",
      "Bembidion has 1959 images in training set\n",
      "Carabus has 3718 images in training set\n",
      "Sphaeroderus has 142 images in training set\n",
      "Cymindis has 168 images in training set\n",
      "Omus has 141 images in training set\n",
      "Poecilus has 412 images in training set\n",
      "Pasimachus has 312 images in training set\n",
      "Calosoma has 1337 images in training set\n",
      "Promecognathus has 51 images in training set\n",
      "Anisodactylus has 437 images in training set\n",
      "Scaphinotus has 608 images in training set\n",
      "Euryderus has 27 images in training set\n",
      "Cicindela has 8515 images in training set\n",
      "Syntomus has 94 images in training set\n",
      "Amphasia has 75 images in training set\n",
      "Cyclotrachelus has 229 images in training set\n",
      "Axinopalpus has 50 images in training set\n",
      "Harpalus has 1408 images in training set\n",
      "Discoderus has 52 images in training set\n",
      "Amara has 1507 images in training set\n",
      "Selenophorus has 152 images in training set\n",
      "Tetracha has 411 images in training set\n"
     ]
    }
   ],
   "source": [
    "for genus in df_genus[\"genus\"].unique():\n",
    "    print(f\"{genus} has {df_genus.filter(pl.col('genus') == genus).n_unique()} images in training set\")"
   ]
  },
  {
   "cell_type": "markdown",
   "id": "ac2ba2ac-d97b-4213-9969-156250c38a9c",
   "metadata": {},
   "source": [
    "Let's save this info into a CSV for easier reference."
   ]
  },
  {
   "cell_type": "code",
   "execution_count": 42,
   "id": "b56b99ba-6d62-44f7-95c7-94ecfea993da",
   "metadata": {},
   "outputs": [],
   "source": [
    "genus_count = {}\n",
    "for genus in df_genus[\"genus\"].unique():\n",
    "    genus_count[genus] = df_genus.filter(pl.col('genus') == genus).n_unique()"
   ]
  },
  {
   "cell_type": "code",
   "execution_count": 43,
   "id": "f5dc826f-d1aa-4614-9fe2-5e02c2fec22c",
   "metadata": {},
   "outputs": [
    {
     "name": "stdout",
     "output_type": "stream",
     "text": [
      "['Calathus', 'Axinopalpus', 'Loxandrus', 'Omus', 'Apristus', 'Amphasia', 'Cyclotrachelus', 'Sphaeroderus', 'Poecilus', 'Scarites', 'Tetracha', 'Euryderus', 'Cymindis', 'Dicaelus', 'Synuchus', 'Cratacanthus', 'Carabus', 'Anisodactylus', 'Pterostichus', 'Amara', 'Tetragonoderus', 'Promecognathus', 'Elaphropus', 'Selenophorus', 'Chlaenius', 'Cicindela', 'Pasimachus', 'Scaphinotus', 'Calosoma', 'Harpalus', 'Bembidion', 'Agonum', 'Discoderus', 'Syntomus']\n",
      "dict_values([421, 50, 224, 141, 44, 75, 229, 142, 412, 371, 411, 27, 168, 256, 76, 23, 3718, 437, 1871, 1507, 110, 51, 150, 152, 1156, 8515, 312, 608, 1337, 1408, 1959, 1070, 52, 94])\n"
     ]
    }
   ],
   "source": [
    "print(list(genus_count.keys()))\n",
    "print(genus_count.values())"
   ]
  },
  {
   "cell_type": "code",
   "execution_count": 44,
   "id": "bcca47c3-e172-479f-af52-657a9275001c",
   "metadata": {},
   "outputs": [
    {
     "data": {
      "text/html": [
       "<div><style>\n",
       ".dataframe > thead > tr,\n",
       ".dataframe > tbody > tr {\n",
       "  text-align: right;\n",
       "  white-space: pre-wrap;\n",
       "}\n",
       "</style>\n",
       "<small>shape: (5, 2)</small><table border=\"1\" class=\"dataframe\"><thead><tr><th>genus</th><th>num_images</th></tr><tr><td>str</td><td>i64</td></tr></thead><tbody><tr><td>&quot;Calathus&quot;</td><td>421</td></tr><tr><td>&quot;Axinopalpus&quot;</td><td>50</td></tr><tr><td>&quot;Loxandrus&quot;</td><td>224</td></tr><tr><td>&quot;Omus&quot;</td><td>141</td></tr><tr><td>&quot;Apristus&quot;</td><td>44</td></tr></tbody></table></div>"
      ],
      "text/plain": [
       "shape: (5, 2)\n",
       "┌─────────────┬────────────┐\n",
       "│ genus       ┆ num_images │\n",
       "│ ---         ┆ ---        │\n",
       "│ str         ┆ i64        │\n",
       "╞═════════════╪════════════╡\n",
       "│ Calathus    ┆ 421        │\n",
       "│ Axinopalpus ┆ 50         │\n",
       "│ Loxandrus   ┆ 224        │\n",
       "│ Omus        ┆ 141        │\n",
       "│ Apristus    ┆ 44         │\n",
       "└─────────────┴────────────┘"
      ]
     },
     "execution_count": 44,
     "metadata": {},
     "output_type": "execute_result"
    }
   ],
   "source": [
    "count_df = pl.DataFrame(data = {\"genus\": list(genus_count.keys()),\n",
    "                                \"num_images\": list(genus_count.values())})\n",
    "count_df.head()"
   ]
  },
  {
   "cell_type": "code",
   "execution_count": 47,
   "id": "b5875d2b-f0be-4da4-a469-3d05329602e4",
   "metadata": {},
   "outputs": [],
   "source": [
    "count_df.write_csv(\"data/genus_counts_inToL.csv\")"
   ]
  },
  {
   "cell_type": "code",
   "execution_count": 13,
   "id": "57013956-3a7b-4429-98db-a95177b259e0",
   "metadata": {},
   "outputs": [
    {
     "data": {
      "text/html": [
       "<div><style>\n",
       ".dataframe > thead > tr,\n",
       ".dataframe > tbody > tr {\n",
       "  text-align: right;\n",
       "  white-space: pre-wrap;\n",
       "}\n",
       "</style>\n",
       "<small>shape: (1, 8)</small><table border=\"1\" class=\"dataframe\"><thead><tr><th>kingdom</th><th>phylum</th><th>class</th><th>order</th><th>family</th><th>genus</th><th>species</th><th>common</th></tr><tr><td>u32</td><td>u32</td><td>u32</td><td>u32</td><td>u32</td><td>u32</td><td>u32</td><td>u32</td></tr></thead><tbody><tr><td>2968</td><td>2968</td><td>2968</td><td>2968</td><td>2968</td><td>2968</td><td>2968</td><td>2968</td></tr></tbody></table></div>"
      ],
      "text/plain": [
       "shape: (1, 8)\n",
       "┌─────────┬────────┬───────┬───────┬────────┬───────┬─────────┬────────┐\n",
       "│ kingdom ┆ phylum ┆ class ┆ order ┆ family ┆ genus ┆ species ┆ common │\n",
       "│ ---     ┆ ---    ┆ ---   ┆ ---   ┆ ---    ┆ ---   ┆ ---     ┆ ---    │\n",
       "│ u32     ┆ u32    ┆ u32   ┆ u32   ┆ u32    ┆ u32   ┆ u32     ┆ u32    │\n",
       "╞═════════╪════════╪═══════╪═══════╪════════╪═══════╪═════════╪════════╡\n",
       "│ 2968    ┆ 2968   ┆ 2968  ┆ 2968  ┆ 2968   ┆ 2968  ┆ 2968    ┆ 2968   │\n",
       "└─────────┴────────┴───────┴───────┴────────┴───────┴─────────┴────────┘"
      ]
     },
     "execution_count": 13,
     "metadata": {},
     "output_type": "execute_result"
    }
   ],
   "source": [
    "df_sciName[TAXA_COLS].count()"
   ]
  },
  {
   "cell_type": "code",
   "execution_count": 20,
   "id": "58da94f7-7339-4a9e-84ca-e98b6191e2b0",
   "metadata": {},
   "outputs": [
    {
     "name": "stdout",
     "output_type": "stream",
     "text": [
      "kingdom has 1 unique values\n",
      "phylum has 1 unique values\n",
      "class has 1 unique values\n",
      "order has 1 unique values\n",
      "family has 1 unique values\n",
      "genus has 30 unique values\n",
      "species has 66 unique values\n",
      "common has 67 unique values\n"
     ]
    }
   ],
   "source": [
    "for col in TAXA_COLS:\n",
    "    print(f\"{col} has {df_sciName.select(col).filter(pl.col(col).is_not_null()).n_unique()} unique values\")"
   ]
  },
  {
   "cell_type": "markdown",
   "id": "d867353f-0e71-4419-ba10-dcf0b6456595",
   "metadata": {},
   "source": [
    "# Let's Look at the representation of the Family (Carabidae) in the full catalog"
   ]
  },
  {
   "cell_type": "code",
   "execution_count": 29,
   "id": "7a3aa051-30e1-48d8-a718-7794016e5ab9",
   "metadata": {},
   "outputs": [
    {
     "data": {
      "text/html": [
       "<div><style>\n",
       ".dataframe > thead > tr,\n",
       ".dataframe > tbody > tr {\n",
       "  text-align: right;\n",
       "  white-space: pre-wrap;\n",
       "}\n",
       "</style>\n",
       "<small>shape: (5, 17)</small><table border=\"1\" class=\"dataframe\"><thead><tr><th>split</th><th>treeoflife_id</th><th>eol_content_id</th><th>eol_page_id</th><th>bioscan_part</th><th>bioscan_filename</th><th>inat21_filename</th><th>inat21_cls_name</th><th>inat21_cls_num</th><th>kingdom</th><th>phylum</th><th>class</th><th>order</th><th>family</th><th>genus</th><th>species</th><th>common</th></tr><tr><td>str</td><td>str</td><td>f64</td><td>f64</td><td>str</td><td>str</td><td>str</td><td>str</td><td>str</td><td>str</td><td>str</td><td>str</td><td>str</td><td>str</td><td>str</td><td>str</td><td>str</td></tr></thead><tbody><tr><td>&quot;train&quot;</td><td>&quot;7a5dcb0c-0bc9-4d20-8f07-64340a…</td><td>2.7776258e7</td><td>1.014588e6</td><td>null</td><td>null</td><td>null</td><td>null</td><td>null</td><td>&quot;Animalia&quot;</td><td>&quot;Arthropoda&quot;</td><td>&quot;Insecta&quot;</td><td>&quot;Coleoptera&quot;</td><td>&quot;Carabidae&quot;</td><td>&quot;Carabus&quot;</td><td>&quot;nemoralis&quot;</td><td>&quot;Wood Ground-beetle&quot;</td></tr><tr><td>&quot;train&quot;</td><td>&quot;9a6a23d5-9010-461e-a62a-7376dd…</td><td>2.0124362e7</td><td>6.4677644e7</td><td>null</td><td>null</td><td>null</td><td>null</td><td>null</td><td>&quot;Animalia&quot;</td><td>&quot;Arthropoda&quot;</td><td>&quot;Insecta&quot;</td><td>&quot;Coleoptera&quot;</td><td>&quot;Carabidae&quot;</td><td>&quot;Trechus&quot;</td><td>&quot;clairville&quot;</td><td>&quot;Trechus clairville&quot;</td></tr><tr><td>&quot;train&quot;</td><td>&quot;384583c1-7780-4d28-823a-34e0db…</td><td>2.8636308e7</td><td>5.2609173e7</td><td>null</td><td>null</td><td>null</td><td>null</td><td>null</td><td>&quot;Animalia&quot;</td><td>&quot;Arthropoda&quot;</td><td>&quot;Insecta&quot;</td><td>&quot;Coleoptera&quot;</td><td>&quot;Carabidae&quot;</td><td>&quot;Platynus&quot;</td><td>&quot;jamaicae&quot;</td><td>&quot;Platynus jamaicae&quot;</td></tr><tr><td>&quot;train&quot;</td><td>&quot;5dd09d72-1aec-418f-b035-7203a9…</td><td>2.7813566e7</td><td>1.015759e6</td><td>null</td><td>null</td><td>null</td><td>null</td><td>null</td><td>&quot;Animalia&quot;</td><td>&quot;Arthropoda&quot;</td><td>&quot;Insecta&quot;</td><td>&quot;Coleoptera&quot;</td><td>&quot;Carabidae&quot;</td><td>&quot;Calathus&quot;</td><td>&quot;opaculus&quot;</td><td>&quot;Calathus opaculus&quot;</td></tr><tr><td>&quot;train&quot;</td><td>&quot;9014f4e1-721f-4153-ac58-529e20…</td><td>1.3606588e7</td><td>3.2200886e7</td><td>null</td><td>null</td><td>null</td><td>null</td><td>null</td><td>&quot;Animalia&quot;</td><td>&quot;Arthropoda&quot;</td><td>&quot;Insecta&quot;</td><td>&quot;Coleoptera&quot;</td><td>&quot;Carabidae&quot;</td><td>&quot;Mecyclothorax&quot;</td><td>&quot;tutei&quot;</td><td>&quot;Mecyclothorax tutei&quot;</td></tr></tbody></table></div>"
      ],
      "text/plain": [
       "shape: (5, 17)\n",
       "┌───────┬────────────┬────────────┬────────────┬───┬───────────┬───────────┬───────────┬───────────┐\n",
       "│ split ┆ treeoflife ┆ eol_conten ┆ eol_page_i ┆ … ┆ family    ┆ genus     ┆ species   ┆ common    │\n",
       "│ ---   ┆ _id        ┆ t_id       ┆ d          ┆   ┆ ---       ┆ ---       ┆ ---       ┆ ---       │\n",
       "│ str   ┆ ---        ┆ ---        ┆ ---        ┆   ┆ str       ┆ str       ┆ str       ┆ str       │\n",
       "│       ┆ str        ┆ f64        ┆ f64        ┆   ┆           ┆           ┆           ┆           │\n",
       "╞═══════╪════════════╪════════════╪════════════╪═══╪═══════════╪═══════════╪═══════════╪═══════════╡\n",
       "│ train ┆ 7a5dcb0c-0 ┆ 2.7776258e ┆ 1.014588e6 ┆ … ┆ Carabidae ┆ Carabus   ┆ nemoralis ┆ Wood Grou │\n",
       "│       ┆ bc9-4d20-8 ┆ 7          ┆            ┆   ┆           ┆           ┆           ┆ nd-beetle │\n",
       "│       ┆ f07-64340a ┆            ┆            ┆   ┆           ┆           ┆           ┆           │\n",
       "│       ┆ …          ┆            ┆            ┆   ┆           ┆           ┆           ┆           │\n",
       "│ train ┆ 9a6a23d5-9 ┆ 2.0124362e ┆ 6.4677644e ┆ … ┆ Carabidae ┆ Trechus   ┆ clairvill ┆ Trechus   │\n",
       "│       ┆ 010-461e-a ┆ 7          ┆ 7          ┆   ┆           ┆           ┆ e         ┆ clairvill │\n",
       "│       ┆ 62a-7376dd ┆            ┆            ┆   ┆           ┆           ┆           ┆ e         │\n",
       "│       ┆ …          ┆            ┆            ┆   ┆           ┆           ┆           ┆           │\n",
       "│ train ┆ 384583c1-7 ┆ 2.8636308e ┆ 5.2609173e ┆ … ┆ Carabidae ┆ Platynus  ┆ jamaicae  ┆ Platynus  │\n",
       "│       ┆ 780-4d28-8 ┆ 7          ┆ 7          ┆   ┆           ┆           ┆           ┆ jamaicae  │\n",
       "│       ┆ 23a-34e0db ┆            ┆            ┆   ┆           ┆           ┆           ┆           │\n",
       "│       ┆ …          ┆            ┆            ┆   ┆           ┆           ┆           ┆           │\n",
       "│ train ┆ 5dd09d72-1 ┆ 2.7813566e ┆ 1.015759e6 ┆ … ┆ Carabidae ┆ Calathus  ┆ opaculus  ┆ Calathus  │\n",
       "│       ┆ aec-418f-b ┆ 7          ┆            ┆   ┆           ┆           ┆           ┆ opaculus  │\n",
       "│       ┆ 035-7203a9 ┆            ┆            ┆   ┆           ┆           ┆           ┆           │\n",
       "│       ┆ …          ┆            ┆            ┆   ┆           ┆           ┆           ┆           │\n",
       "│ train ┆ 9014f4e1-7 ┆ 1.3606588e ┆ 3.2200886e ┆ … ┆ Carabidae ┆ Mecycloth ┆ tutei     ┆ Mecycloth │\n",
       "│       ┆ 21f-4153-a ┆ 7          ┆ 7          ┆   ┆           ┆ orax      ┆           ┆ orax      │\n",
       "│       ┆ c58-529e20 ┆            ┆            ┆   ┆           ┆           ┆           ┆ tutei     │\n",
       "│       ┆ …          ┆            ┆            ┆   ┆           ┆           ┆           ┆           │\n",
       "└───────┴────────────┴────────────┴────────────┴───┴───────────┴───────────┴───────────┴───────────┘"
      ]
     },
     "execution_count": 29,
     "metadata": {},
     "output_type": "execute_result"
    }
   ],
   "source": [
    "df = pl.read_csv(\"https://huggingface.co/datasets/imageomics/TreeOfLife-10M/resolve/main/metadata/catalog.csv\",\n",
    "                 low_memory = False).filter((pl.col(\"family\") == \"Carabidae\") & (pl.col(\"split\") != \"train_small\"))\n",
    "\n",
    "df.head()"
   ]
  },
  {
   "cell_type": "code",
   "execution_count": 30,
   "id": "e516bff9-9c17-4aa2-b38f-bc83c782fa36",
   "metadata": {},
   "outputs": [
    {
     "data": {
      "text/plain": [
       "688"
      ]
     },
     "execution_count": 30,
     "metadata": {},
     "output_type": "execute_result"
    }
   ],
   "source": [
    "df[\"genus\"].n_unique()"
   ]
  },
  {
   "cell_type": "code",
   "execution_count": 31,
   "id": "4da5bd5d-99bc-49c6-bcdf-026d1a8a5f99",
   "metadata": {},
   "outputs": [
    {
     "data": {
      "text/html": [
       "<div><style>\n",
       ".dataframe > thead > tr,\n",
       ".dataframe > tbody > tr {\n",
       "  text-align: right;\n",
       "  white-space: pre-wrap;\n",
       "}\n",
       "</style>\n",
       "<small>shape: (1, 17)</small><table border=\"1\" class=\"dataframe\"><thead><tr><th>split</th><th>treeoflife_id</th><th>eol_content_id</th><th>eol_page_id</th><th>bioscan_part</th><th>bioscan_filename</th><th>inat21_filename</th><th>inat21_cls_name</th><th>inat21_cls_num</th><th>kingdom</th><th>phylum</th><th>class</th><th>order</th><th>family</th><th>genus</th><th>species</th><th>common</th></tr><tr><td>u32</td><td>u32</td><td>u32</td><td>u32</td><td>u32</td><td>u32</td><td>u32</td><td>u32</td><td>u32</td><td>u32</td><td>u32</td><td>u32</td><td>u32</td><td>u32</td><td>u32</td><td>u32</td><td>u32</td></tr></thead><tbody><tr><td>49220</td><td>49220</td><td>42424</td><td>42424</td><td>672</td><td>672</td><td>6124</td><td>6124</td><td>6124</td><td>49220</td><td>49220</td><td>49220</td><td>49220</td><td>49220</td><td>48581</td><td>47067</td><td>49220</td></tr></tbody></table></div>"
      ],
      "text/plain": [
       "shape: (1, 17)\n",
       "┌───────┬───────────────┬────────────────┬─────────────┬───┬────────┬───────┬─────────┬────────┐\n",
       "│ split ┆ treeoflife_id ┆ eol_content_id ┆ eol_page_id ┆ … ┆ family ┆ genus ┆ species ┆ common │\n",
       "│ ---   ┆ ---           ┆ ---            ┆ ---         ┆   ┆ ---    ┆ ---   ┆ ---     ┆ ---    │\n",
       "│ u32   ┆ u32           ┆ u32            ┆ u32         ┆   ┆ u32    ┆ u32   ┆ u32     ┆ u32    │\n",
       "╞═══════╪═══════════════╪════════════════╪═════════════╪═══╪════════╪═══════╪═════════╪════════╡\n",
       "│ 49220 ┆ 49220         ┆ 42424          ┆ 42424       ┆ … ┆ 49220  ┆ 48581 ┆ 47067   ┆ 49220  │\n",
       "└───────┴───────────────┴────────────────┴─────────────┴───┴────────┴───────┴─────────┴────────┘"
      ]
     },
     "execution_count": 31,
     "metadata": {},
     "output_type": "execute_result"
    }
   ],
   "source": [
    "df.count()"
   ]
  },
  {
   "cell_type": "code",
   "execution_count": 32,
   "id": "e9d1dee6-f094-423f-b0a0-2a5c827a3d30",
   "metadata": {},
   "outputs": [
    {
     "data": {
      "text/html": [
       "<div><style>\n",
       ".dataframe > thead > tr,\n",
       ".dataframe > tbody > tr {\n",
       "  text-align: right;\n",
       "  white-space: pre-wrap;\n",
       "}\n",
       "</style>\n",
       "<small>shape: (1, 18)</small><table border=\"1\" class=\"dataframe\"><thead><tr><th>split</th><th>treeoflife_id</th><th>eol_content_id</th><th>eol_page_id</th><th>bioscan_part</th><th>bioscan_filename</th><th>inat21_filename</th><th>inat21_cls_name</th><th>inat21_cls_num</th><th>kingdom</th><th>phylum</th><th>class</th><th>order</th><th>family</th><th>genus</th><th>species</th><th>common</th><th>sciName</th></tr><tr><td>u32</td><td>u32</td><td>u32</td><td>u32</td><td>u32</td><td>u32</td><td>u32</td><td>u32</td><td>u32</td><td>u32</td><td>u32</td><td>u32</td><td>u32</td><td>u32</td><td>u32</td><td>u32</td><td>u32</td><td>u32</td></tr></thead><tbody><tr><td>27577</td><td>27577</td><td>21417</td><td>21417</td><td>36</td><td>36</td><td>6124</td><td>6124</td><td>6124</td><td>27485</td><td>27485</td><td>27485</td><td>27485</td><td>27485</td><td>27577</td><td>27260</td><td>27577</td><td>27260</td></tr></tbody></table></div>"
      ],
      "text/plain": [
       "shape: (1, 18)\n",
       "┌───────┬───────────────┬────────────────┬─────────────┬───┬───────┬─────────┬────────┬─────────┐\n",
       "│ split ┆ treeoflife_id ┆ eol_content_id ┆ eol_page_id ┆ … ┆ genus ┆ species ┆ common ┆ sciName │\n",
       "│ ---   ┆ ---           ┆ ---            ┆ ---         ┆   ┆ ---   ┆ ---     ┆ ---    ┆ ---     │\n",
       "│ u32   ┆ u32           ┆ u32            ┆ u32         ┆   ┆ u32   ┆ u32     ┆ u32    ┆ u32     │\n",
       "╞═══════╪═══════════════╪════════════════╪═════════════╪═══╪═══════╪═════════╪════════╪═════════╡\n",
       "│ 27577 ┆ 27577         ┆ 21417          ┆ 21417       ┆ … ┆ 27577 ┆ 27260   ┆ 27577  ┆ 27260   │\n",
       "└───────┴───────────────┴────────────────┴─────────────┴───┴───────┴─────────┴────────┴─────────┘"
      ]
     },
     "execution_count": 32,
     "metadata": {},
     "output_type": "execute_result"
    }
   ],
   "source": [
    "df_genus.count()"
   ]
  },
  {
   "cell_type": "code",
   "execution_count": 33,
   "id": "054054eb-ac19-4d29-9a48-0f56bb9ded72",
   "metadata": {},
   "outputs": [
    {
     "data": {
      "text/html": [
       "<div><style>\n",
       ".dataframe > thead > tr,\n",
       ".dataframe > tbody > tr {\n",
       "  text-align: right;\n",
       "  white-space: pre-wrap;\n",
       "}\n",
       "</style>\n",
       "<small>shape: (1, 17)</small><table border=\"1\" class=\"dataframe\"><thead><tr><th>split</th><th>treeoflife_id</th><th>eol_content_id</th><th>eol_page_id</th><th>bioscan_part</th><th>bioscan_filename</th><th>inat21_filename</th><th>inat21_cls_name</th><th>inat21_cls_num</th><th>kingdom</th><th>phylum</th><th>class</th><th>order</th><th>family</th><th>genus</th><th>species</th><th>common</th></tr><tr><td>u32</td><td>u32</td><td>u32</td><td>u32</td><td>u32</td><td>u32</td><td>u32</td><td>u32</td><td>u32</td><td>u32</td><td>u32</td><td>u32</td><td>u32</td><td>u32</td><td>u32</td><td>u32</td><td>u32</td></tr></thead><tbody><tr><td>639</td><td>639</td><td>170</td><td>170</td><td>469</td><td>469</td><td>0</td><td>0</td><td>0</td><td>639</td><td>639</td><td>639</td><td>639</td><td>639</td><td>0</td><td>0</td><td>639</td></tr></tbody></table></div>"
      ],
      "text/plain": [
       "shape: (1, 17)\n",
       "┌───────┬───────────────┬────────────────┬─────────────┬───┬────────┬───────┬─────────┬────────┐\n",
       "│ split ┆ treeoflife_id ┆ eol_content_id ┆ eol_page_id ┆ … ┆ family ┆ genus ┆ species ┆ common │\n",
       "│ ---   ┆ ---           ┆ ---            ┆ ---         ┆   ┆ ---    ┆ ---   ┆ ---     ┆ ---    │\n",
       "│ u32   ┆ u32           ┆ u32            ┆ u32         ┆   ┆ u32    ┆ u32   ┆ u32     ┆ u32    │\n",
       "╞═══════╪═══════════════╪════════════════╪═════════════╪═══╪════════╪═══════╪═════════╪════════╡\n",
       "│ 639   ┆ 639           ┆ 170            ┆ 170         ┆ … ┆ 639    ┆ 0     ┆ 0       ┆ 639    │\n",
       "└───────┴───────────────┴────────────────┴─────────────┴───┴────────┴───────┴─────────┴────────┘"
      ]
     },
     "execution_count": 33,
     "metadata": {},
     "output_type": "execute_result"
    }
   ],
   "source": [
    "# Beetles not labeled to genus level\n",
    "df.filter(pl.col(\"genus\").is_null()).count()"
   ]
  },
  {
   "cell_type": "markdown",
   "id": "c0fe28f6-8318-448d-8347-7f907b61f3fc",
   "metadata": {},
   "source": [
    "This suggests that there are about 21K images representing genera not in the BeetleMeasurements CSV."
   ]
  },
  {
   "cell_type": "code",
   "execution_count": null,
   "id": "ee067114-b936-41ff-a841-c862efbf1ef0",
   "metadata": {},
   "outputs": [],
   "source": []
  }
 ],
 "metadata": {
  "kernelspec": {
   "display_name": "Python 3 (ipykernel)",
   "language": "python",
   "name": "python3"
  },
  "language_info": {
   "codemirror_mode": {
    "name": "ipython",
    "version": 3
   },
   "file_extension": ".py",
   "mimetype": "text/x-python",
   "name": "python",
   "nbconvert_exporter": "python",
   "pygments_lexer": "ipython3",
   "version": "3.11.9"
  }
 },
 "nbformat": 4,
 "nbformat_minor": 5
}
